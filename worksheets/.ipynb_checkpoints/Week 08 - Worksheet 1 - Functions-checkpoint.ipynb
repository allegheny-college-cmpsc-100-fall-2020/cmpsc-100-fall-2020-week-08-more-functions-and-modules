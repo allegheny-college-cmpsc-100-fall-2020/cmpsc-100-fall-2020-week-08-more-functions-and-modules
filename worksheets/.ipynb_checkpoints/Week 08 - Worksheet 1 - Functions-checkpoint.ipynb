{
 "cells": [
  {
   "cell_type": "markdown",
   "metadata": {},
   "source": [
    "# Week 08, Worksheet 1: More Functions\n",
    "\n",
    "<div class=\"alert alert-block alert-danger\">\n",
    "    If you're looking at this worksheet and thinking \"WHAT THE WHAT?!\" -- we'll be covering this on the week's video. Given our current knowledge, you can complete Worksheet 0 independently. To find the corresponding weekly video, visit the <a href = \"\">course schedule</a>.\n",
    "</div>\n",
    "\n",
    "## Dig, if you will, some pictures\n",
    "\n",
    "Just like last week, we often come upon some requirement for functionality which necessitates creating a function. Perhaps we want to organize our code. Maybe we're looking at doing something many, many times and only want to write the procedure for a _very specific_ operation once. In any event, functions will become part of our regular vocabulary from here to the end of this course (and likely your entire career in Python).\n",
    "\n",
    "I'll propose a problem perfect for a functional solution, one that you might have come across in your digital life: resizing pictures. But -- not just _any_ pictures: we're going to resize some very interesting vintage computer ads.\n",
    "\n",
    "### Of course, a detour\n",
    "\n",
    "![A football player _and_ a librarian like bar charts? No way!](ads/ti_disaster.jpg)\n",
    "\n",
    "Aside: for a long time, no one had any idea who the real market for a computer would be, so companies tried to advertise to _everybody_ long before computers were really interoperable or easy to access. The prevailing attitude in some quarters shows:\n",
    "\n",
    "> There is no reason anyone would want a computer in their home\n",
    ">\n",
    "> —Ken Olson, Digital Equipment Corporation (DEC), 1977\n",
    "\n",
    "For context: DEC made mainframes (i.e. _very large_ computers). These were the holy grail until the '70s.\n",
    "\n",
    "## Resizing images\n",
    "\n",
    "All 2D pictures have two dimensions: width and height. To properly resize an image, getting these dimensions right requires a bit of math -- but, no fear, like the last worksheet, we're going to do this all together. In the end, we should have a nice collage. Well, at least _a_ collage.\n",
    "\n",
    "Let's get started.\n",
    "\n",
    "## Loading image files\n",
    "\n",
    "We'll revisit a familiar data structure: `list`s. I've provided a bit of code for you to scan your folder and collect the names of the images in the `ads` folder, but we still need to:\n",
    "\n",
    "* `print` the original size of the images (both width and height)\n",
    "* resize each of the images _proportionally_ by a random \"scale\" percentage\n",
    "* add them to our collage at random places (who doesn't like a bit of variety?)\n",
    "* save our image as `worksheet_1_final_collage.png`"
   ]
  },
  {
   "cell_type": "code",
   "execution_count": 18,
   "metadata": {},
   "outputs": [],
   "source": [
    "import os # <-- a built-in module\n",
    "import random\n",
    "from PIL import Image, ImageDraw\n",
    "\n",
    "def generate_random_position():\n",
    "    # TODO: Finish function\n",
    "    pass\n",
    "\n",
    "def add_to_collage(img):\n",
    "    # TODO: Finish function\n",
    "    pass\n",
    "\n",
    "def calculate_final_size(w, h):\n",
    "    # TODO: Finish function\n",
    "    pass\n",
    "\n",
    "def batch_resize(img):\n",
    "    img = Image.open(img,\"r\")\n",
    "   # TODO: Finish function\n",
    "\n",
    "vintage_ads = []\n",
    "resized_images = []\n",
    "#                                            R G B A\n",
    "final_collage = Image.new(\"RGBA\",(1024,768),(0,0,0,0))\n",
    "\n",
    "for file in os.listdir(\"ads\"): # <-- a handy method to look at our \"ads\" directory\n",
    "    if file.endswith(\".jpg\"):\n",
    "        vintage_ads.append(f\"ads/{file}\")\n",
    "\n",
    "# TODO: Finish \"collaging\""
   ]
  },
  {
   "cell_type": "markdown",
   "metadata": {},
   "source": [
    "### Finishing this exercise\n",
    "\n",
    "In the cell below, write the Markdown necessary to display the image, `worksheet_1_final_collage.png`."
   ]
  },
  {
   "cell_type": "markdown",
   "metadata": {},
   "source": [
    "`TODO`"
   ]
  }
 ],
 "metadata": {
  "kernelspec": {
   "display_name": "Python 3",
   "language": "python",
   "name": "python3"
  },
  "language_info": {
   "codemirror_mode": {
    "name": "ipython",
    "version": 3
   },
   "file_extension": ".py",
   "mimetype": "text/x-python",
   "name": "python",
   "nbconvert_exporter": "python",
   "pygments_lexer": "ipython3",
   "version": "3.8.5"
  }
 },
 "nbformat": 4,
 "nbformat_minor": 4
}
