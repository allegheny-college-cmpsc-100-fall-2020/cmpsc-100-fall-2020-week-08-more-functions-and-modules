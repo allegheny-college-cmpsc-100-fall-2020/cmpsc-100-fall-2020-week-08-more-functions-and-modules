{
 "cells": [
  {
   "cell_type": "markdown",
   "metadata": {},
   "source": [
    "# CMPSC 100: The Dealership\n",
    "\n",
    "![G. Wiz: profiting from your work since 2020](https://cs.allegheny.edu/sites/dluman/cmpsc100/cmpsc-100-the-dealership.png)"
   ]
  },
  {
   "cell_type": "markdown",
   "metadata": {},
   "source": [
    "G. Wiz -- like anyone these days -- is looking for some part-time, passive income. And, like any reasonable person, they've hit on the idea of becoming an art dealer. I mean, people will pay a gazillion dollars for anything _artistic_, right? Despite any experience in the trade, G. Wiz thinks this is a _great idea_.\n",
    "\n",
    "There's just one big problem: G. Wiz doesn't know any artists, except -- now -- you. G. Wiz is, however, savvy about one thing: trends. And, currently, the Gator Kingdom is all about abstract art. Looking through the local auction house's collection, G. Wiz noticed that the following painting sold for `UNDISCLOSED SUM`, but that probably means it's A LOT OF DOLLARS:\n",
    "\n",
    "![#ART](https://cs.allegheny.edu/sites/dluman/cmpsc100/cmpsc-100-the-art.png)"
   ]
  },
  {
   "cell_type": "markdown",
   "metadata": {},
   "source": [
    "## Requirements\n",
    "\n",
    "---"
   ]
  },
  {
   "cell_type": "markdown",
   "metadata": {},
   "source": [
    "`Notebook`\n",
    "\n",
    "This notebook should create an image which:\n",
    "\n",
    "* Is `1920` x `1080` pixels large\n",
    "* Uses at least one of each of the following shapes (more interesting pictures use _many_):\n",
    "  * `ellipse`\n",
    "  * `rectangle`\n",
    "  * `polygon`\n",
    "    * Here's the [\"formal\" definition of the method](https://pillow.readthedocs.io/en/stable/reference/ImageDraw.html#PIL.ImageDraw.ImageDraw.polygon)\n",
    "* Adds these shapes using a random approach written in a function\n",
    "* Has a background other than black or white\n",
    "* Pastes G. Wiz's picture in the bottom right corner (he has to have a branded picture for the catalog)\n",
    "  * Use the `g_wiz_mark.png` file located in this directory\n",
    "* Has a title included in the `reflection.md` file\n",
    "  * Of course, this lab presupposes a _complete_ `reflection.md` file\n",
    "* Is saved in this directory as `the_art.png`\n",
    "  \n",
    "When you're done, congratulations -- you just made computational art. (That G. Wiz makes all the profit from.)"
   ]
  },
  {
   "cell_type": "markdown",
   "metadata": {},
   "source": [
    "## Code space\n",
    "\n",
    "---"
   ]
  },
  {
   "cell_type": "code",
   "execution_count": null,
   "metadata": {},
   "outputs": [],
   "source": []
  }
 ],
 "metadata": {
  "kernelspec": {
   "display_name": "Python 3",
   "language": "python",
   "name": "python3"
  },
  "language_info": {
   "codemirror_mode": {
    "name": "ipython",
    "version": 3
   },
   "file_extension": ".py",
   "mimetype": "text/x-python",
   "name": "python",
   "nbconvert_exporter": "python",
   "pygments_lexer": "ipython3",
   "version": "3.8.5"
  }
 },
 "nbformat": 4,
 "nbformat_minor": 4
}
