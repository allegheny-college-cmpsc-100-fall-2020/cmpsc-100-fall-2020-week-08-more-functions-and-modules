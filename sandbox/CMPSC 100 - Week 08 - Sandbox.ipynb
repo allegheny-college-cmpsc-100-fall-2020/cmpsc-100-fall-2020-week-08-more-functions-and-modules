{
 "cells": [
  {
   "cell_type": "markdown",
   "metadata": {
    "deletable": false,
    "editable": false
   },
   "source": [
    "# CMPSC 100: `Week 08` Sandbox\n",
    "\n",
    "---\n",
    "\n",
    "In the computer science world, a \"sandbox\" is almost exactly what it is in the real world: a place to, effectively, \"play.\" \n",
    "\n",
    "## Usage\n",
    "\n",
    "First and foremost, this space is for *you*. \n",
    "\n",
    "Use this notebook to try out code presented in class or do self-guided exploration. Your instructor may reference this notebook and ask that you write some code in it to follow along with in-class exercises or live programming.\n",
    "\n",
    "I also encourage you to use this as a space to take notes as you participate in discussions or practice coding concepts on your own.\n",
    "\n",
    "### Reminders\n",
    "\n",
    "The following key combinations and shortcuts will speed your work in this notebook.\n",
    "\n",
    "#### With cursor in cell\n",
    "\n",
    "| Key(s) | Outcome |\n",
    "|:-|:-|\n",
    "| `Enter` | Adds a new line in the current cell |\n",
    "| `Shift` + `Enter` | Runs the current cell and moves to the first cell below |\n",
    "| `Ctrl` + `Enter` | Runs the current cell; cursor remains in cell |\n",
    "| `Alt` + `Enter` | Runs current cell and inserts new cell below ||\n",
    "\n",
    "#### With cell selected\n",
    "\n",
    "| Key(s) | Outcome |\n",
    "|:-|:-|\n",
    "| `A` | Add cell above current cell |\n",
    "| `B` | Add cell below current cell |\n",
    "| `D` | Delete current cell |\n",
    "| `Shift` + `M` | Merge current cell with below |\n",
    "| `M` | Changes current cell to Markdown format|\n",
    "| `Y` | Changes current cell to code format |\n",
    "\n",
    "\n",
    "## Helpful readings\n",
    "\n",
    "The readings below are meant to serve as references for you as you explore practical use of our course's platforms. As always, however, feel free to reach out to your instructors or post questions in our course [Slack](cmpsc-100-00-fa-2020.slack.com).\n",
    "\n",
    "### Using Jupyter notebooks\n",
    "\n",
    "For questions about using a Jupyter Notebook, our colleagues at Bryn Mawr created a [Jupyter Notebook User's Manual](https://jupyter.brynmawr.edu/services/public/dblank/Jupyter%20Notebook%20Users%20Manual.ipynb) which answers basic and advanced questions about the platform.\n",
    "\n",
    "### Markdown\n",
    "\n",
    "I strongly recommend reading the [Mastering Markdown](https://guides.github.com/features/mastering-markdown/) guide to serve as a Markdown reference."
   ]
  },
  {
   "cell_type": "markdown",
   "metadata": {},
   "source": [
    "## Sandbox"
   ]
  },
  {
   "cell_type": "code",
   "execution_count": 22,
   "metadata": {},
   "outputs": [
    {
     "data": {
      "image/png": "[encoded data removed]",
      "text/plain": [
       "<PIL.Image.Image image mode=RGB size=1024x768 at 0x7FDF9A5B2610>"
      ]
     },
     "execution_count": 22,
     "metadata": {},
     "output_type": "execute_result"
    }
   ],
   "source": [
    "# Import required libraries\n",
    "from PIL import Image, ImageDraw, ImageFont\n",
    "\n",
    "def prepare_text(text, align, size):\n",
    "    \n",
    "    # Setup typeface details/path\n",
    "    face = 'type/space-mono.ttf'\n",
    "    \n",
    "    # Create font from type at a given size\n",
    "    font = ImageFont.truetype(face,size)\n",
    "    \n",
    "    # Get picture dimensions\n",
    "    pic_w, pic_h = picture.size\n",
    "    type_w, type_h = draw.textsize(text, font=font)\n",
    "    \n",
    "    if align == \"center\":\n",
    "        point = (\n",
    "            (pic_w - type_w) / 2, # <-- center text horizontally\n",
    "            (pic_h - type_h) / 2  # <-- center text vertically\n",
    "        )\n",
    "    elif align == \"right-bottom\":\n",
    "        point = (\n",
    "            pic_w - type_w - 50,  # <-- calculate \"x\" boundary, give 50 px barrier\n",
    "            pic_h - type_h - 50   # <-- calculate \"y\" boundary, give 50 px barrier\n",
    "        )\n",
    "    \n",
    "    return point, font\n",
    "\n",
    "def apply_text(text, origin, font):\n",
    "\n",
    "    # Use draw object to apply text\n",
    "    draw.text(\n",
    "        (\n",
    "            origin\n",
    "        ),\n",
    "        text,                     # <-- source text to write\n",
    "        fill='white',             # <-- color of text\n",
    "        font=font                 # <-- font object to use when writing\n",
    "    )\n",
    "\n",
    "# Open source file\n",
    "poem = open(\"poem.txt\",\"r\")\n",
    "lines = poem.read()\n",
    "\n",
    "# Create image to write to\n",
    "picture = Image.new(\"RGB\",(1024,768))\n",
    "\n",
    "# Set up ability to draw on the picture\n",
    "draw = ImageDraw.Draw(picture)\n",
    "\n",
    "# Center poem text\n",
    "pos, font = prepare_text(lines, \"center\", 30)\n",
    "\n",
    "# Write poem text to image\n",
    "apply_text(lines, pos, font)\n",
    "\n",
    "# Provide attribution text with newline character\n",
    "attr = '\"Silence\"\\nEugen Gomringer'\n",
    "\n",
    "# Right-bottom justify attribution\n",
    "pos, font = prepare_text(attr, \"right-bottom\", 20)\n",
    "\n",
    "# Write attribution to image\n",
    "apply_text(attr, pos, font)\n",
    "\n",
    "# Save picture\n",
    "picture.save(\"poem.png\")\n",
    "\n",
    "# JUPYTER-ONLY: display picture after code finishes\n",
    "picture"
   ]
  },
  {
   "cell_type": "code",
   "execution_count": null,
   "metadata": {},
   "outputs": [],
   "source": []
  }
 ],
 "metadata": {
  "celltoolbar": "Raw Cell Format",
  "kernelspec": {
   "display_name": "Python 3",
   "language": "python",
   "name": "python3"
  },
  "language_info": {
   "codemirror_mode": {
    "name": "ipython",
    "version": 3
   },
   "file_extension": ".py",
   "mimetype": "text/x-python",
   "name": "python",
   "nbconvert_exporter": "python",
   "pygments_lexer": "ipython3",
   "version": "3.8.5"
  }
 },
 "nbformat": 4,
 "nbformat_minor": 4
}
